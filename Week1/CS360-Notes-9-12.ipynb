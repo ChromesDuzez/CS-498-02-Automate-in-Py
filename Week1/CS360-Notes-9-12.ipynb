{
 "cells": [
  {
   "cell_type": "code",
   "execution_count": 1,
   "id": "ea9823cf",
   "metadata": {},
   "outputs": [],
   "source": [
    "#Tuples in Python\n",
    "#Bonus points if you ask Professor Byerly for help on \"tup-els\"\n",
    "#Just like a list, but immutable"
   ]
  },
  {
   "cell_type": "code",
   "execution_count": 2,
   "id": "7ca94529",
   "metadata": {},
   "outputs": [],
   "source": [
    "# Classes in Python\n",
    "# naming convention in PEP8 UpperCase\n",
    "\n",
    "class SimpleCounter():\n",
    "    pass"
   ]
  },
  {
   "cell_type": "code",
   "execution_count": 3,
   "id": "a99d1ae9",
   "metadata": {},
   "outputs": [],
   "source": [
    "#one construction is available to you in Python\n",
    "# it has a specific name\n",
    "# self ~= \"this\"\n",
    "class SimpleCounter():\n",
    "    def __init__(self):\n",
    "        pass"
   ]
  },
  {
   "cell_type": "code",
   "execution_count": 4,
   "id": "f21b5e61",
   "metadata": {},
   "outputs": [],
   "source": [
    "sc = SimpleCounter()"
   ]
  },
  {
   "cell_type": "code",
   "execution_count": 5,
   "id": "8ff1af31",
   "metadata": {},
   "outputs": [
    {
     "name": "stdout",
     "output_type": "stream",
     "text": [
      "<class '__main__.SimpleCounter'>\n"
     ]
    }
   ],
   "source": [
    "print(SimpleCounter)"
   ]
  },
  {
   "cell_type": "code",
   "execution_count": 6,
   "id": "f008ea82",
   "metadata": {},
   "outputs": [
    {
     "name": "stdout",
     "output_type": "stream",
     "text": [
      "<__main__.SimpleCounter object at 0x000002016BF1D280>\n"
     ]
    }
   ],
   "source": [
    "print(sc)"
   ]
  },
  {
   "cell_type": "code",
   "execution_count": 7,
   "id": "0d139bc4",
   "metadata": {},
   "outputs": [
    {
     "data": {
      "text/plain": [
       "'hello world'"
      ]
     },
     "execution_count": 7,
     "metadata": {},
     "output_type": "execute_result"
    }
   ],
   "source": [
    "# you can backdoor stuff in Python! (but don't, please don't)\n",
    "\"hello\"+\" world\""
   ]
  },
  {
   "cell_type": "code",
   "execution_count": 8,
   "id": "aac55ea1",
   "metadata": {},
   "outputs": [
    {
     "data": {
      "text/plain": [
       "'hello world'"
      ]
     },
     "execution_count": 8,
     "metadata": {},
     "output_type": "execute_result"
    }
   ],
   "source": [
    "# Just because you can doesn't mean you should!\n",
    "\"hello\".__add__(\" world\")"
   ]
  },
  {
   "cell_type": "code",
   "execution_count": 9,
   "id": "538809e2",
   "metadata": {},
   "outputs": [],
   "source": [
    "# \"public\" \n",
    "class SimpleCounter:\n",
    "    def __init__(self):\n",
    "        self.count = 0"
   ]
  },
  {
   "cell_type": "code",
   "execution_count": 10,
   "id": "4871b215",
   "metadata": {},
   "outputs": [],
   "source": [
    "# private\n",
    "class SimpleCounter:\n",
    "    def __init__(self):\n",
    "        self._count = 0 # or a double underscore is fine as well"
   ]
  },
  {
   "cell_type": "code",
   "execution_count": 11,
   "id": "ad8f9b1b",
   "metadata": {},
   "outputs": [],
   "source": [
    "sc = SimpleCounter"
   ]
  },
  {
   "cell_type": "code",
   "execution_count": 12,
   "id": "403bb737",
   "metadata": {},
   "outputs": [],
   "source": [
    "sc._count = 5 # bad practice"
   ]
  },
  {
   "cell_type": "code",
   "execution_count": 13,
   "id": "3fcf29a4",
   "metadata": {},
   "outputs": [],
   "source": [
    "class SimpleCounter:\n",
    "    def __init__(self):\n",
    "        self._count = 0\n",
    "    def get_count(self):\n",
    "        return self._count"
   ]
  },
  {
   "cell_type": "code",
   "execution_count": 14,
   "id": "ed773d12",
   "metadata": {},
   "outputs": [
    {
     "data": {
      "text/plain": [
       "0"
      ]
     },
     "execution_count": 14,
     "metadata": {},
     "output_type": "execute_result"
    }
   ],
   "source": [
    "sc = SimpleCounter()\n",
    "sc.get_count() # proper way, make getters/setters/public facing methods"
   ]
  },
  {
   "cell_type": "code",
   "execution_count": 15,
   "id": "7f687359",
   "metadata": {},
   "outputs": [],
   "source": [
    "class SimpleCounter:\n",
    "    def __init__(self):\n",
    "        self._count = 0\n",
    "    def get_count(self):\n",
    "        return self._count\n",
    "    def increment(self):\n",
    "        self._count += 1\n",
    "    def reset(self):\n",
    "        self._count = 0"
   ]
  },
  {
   "cell_type": "code",
   "execution_count": 16,
   "id": "e1928942",
   "metadata": {},
   "outputs": [],
   "source": [
    "sc = SimpleCounter()"
   ]
  },
  {
   "cell_type": "code",
   "execution_count": 17,
   "id": "8c73c97d",
   "metadata": {},
   "outputs": [],
   "source": [
    "for i in range(20):\n",
    "    sc.increment()"
   ]
  },
  {
   "cell_type": "code",
   "execution_count": 18,
   "id": "68e96026",
   "metadata": {},
   "outputs": [
    {
     "name": "stdout",
     "output_type": "stream",
     "text": [
      "20\n"
     ]
    }
   ],
   "source": [
    "print(sc.get_count())"
   ]
  },
  {
   "cell_type": "code",
   "execution_count": 19,
   "id": "8a75abbc",
   "metadata": {},
   "outputs": [],
   "source": [
    "class DecrementingCounter():\n",
    "    def __init__(self):\n",
    "        self._count = 0\n",
    "        self._too_many = False\n",
    "    def get_count(self):\n",
    "        return self._count\n",
    "    def increment(self):\n",
    "        self._count += 1\n",
    "    def reset(self):\n",
    "        self._count = 0\n",
    "    def __too_many_people(self):\n",
    "        if self._count > 12:\n",
    "            self._too_many = True\n",
    "        else:\n",
    "            self._too_many = False\n",
    "    def is_too_many_people(self):\n",
    "        self.__too_many_people() # note inside a method don't need to pass self\n",
    "        return self._too_many"
   ]
  },
  {
   "cell_type": "code",
   "execution_count": 20,
   "id": "d4890dad",
   "metadata": {},
   "outputs": [
    {
     "name": "stdout",
     "output_type": "stream",
     "text": [
      "True\n",
      "True\n",
      "True\n"
     ]
    }
   ],
   "source": [
    "dc = DecrementingCounter()\n",
    "for i in range(1,50):\n",
    "    dc.increment()\n",
    "    if i % 15 == 0:\n",
    "        print(dc.is_too_many_people())"
   ]
  },
  {
   "cell_type": "code",
   "execution_count": 21,
   "id": "fbc9ef9f",
   "metadata": {},
   "outputs": [],
   "source": [
    "# default values in the constructor\n",
    "class Student():\n",
    "    def __init__(self, fname=\"John\", lname=\"Smith\"):\n",
    "        self._fname = fname\n",
    "        self._lname = lname\n",
    "    def greeting(self):\n",
    "        print(\"Hello my name is:\",self._fname,self._lname)"
   ]
  },
  {
   "cell_type": "code",
   "execution_count": 22,
   "id": "9e0eaeb4",
   "metadata": {},
   "outputs": [
    {
     "name": "stdout",
     "output_type": "stream",
     "text": [
      "Hello my name is: John Smith\n"
     ]
    }
   ],
   "source": [
    "std = Student()\n",
    "std.greeting()"
   ]
  },
  {
   "cell_type": "code",
   "execution_count": 23,
   "id": "be56c626",
   "metadata": {},
   "outputs": [
    {
     "name": "stdout",
     "output_type": "stream",
     "text": [
      "Hello my name is: Steven Smith\n"
     ]
    }
   ],
   "source": [
    "std = Student(fname=\"Steven\")\n",
    "std.greeting()"
   ]
  },
  {
   "cell_type": "code",
   "execution_count": 24,
   "id": "752e3734",
   "metadata": {},
   "outputs": [
    {
     "name": "stdout",
     "output_type": "stream",
     "text": [
      "Hello my name is: John Wick\n"
     ]
    }
   ],
   "source": [
    "std = Student(lname=\"Wick\")\n",
    "std.greeting()"
   ]
  },
  {
   "cell_type": "code",
   "execution_count": 25,
   "id": "10d5826e",
   "metadata": {},
   "outputs": [
    {
     "name": "stdout",
     "output_type": "stream",
     "text": [
      "Hello my name is: Steven Strange\n"
     ]
    }
   ],
   "source": [
    "std = Student(fname=\"Steven\",lname=\"Strange\")\n",
    "std.greeting()"
   ]
  },
  {
   "cell_type": "code",
   "execution_count": 26,
   "id": "a7050cb6",
   "metadata": {},
   "outputs": [
    {
     "name": "stdout",
     "output_type": "stream",
     "text": [
      "Hello my name is: Steven Strange\n"
     ]
    }
   ],
   "source": [
    "std = Student(\"Steven\",\"Strange\")\n",
    "std.greeting()"
   ]
  },
  {
   "cell_type": "code",
   "execution_count": 27,
   "id": "edd23042",
   "metadata": {},
   "outputs": [
    {
     "name": "stdout",
     "output_type": "stream",
     "text": [
      "Hello my name is: Steven Strange\n"
     ]
    }
   ],
   "source": [
    "std = Student(\"Steven\",lname=\"Strange\")\n",
    "std.greeting()"
   ]
  },
  {
   "cell_type": "code",
   "execution_count": 28,
   "id": "969dfddb",
   "metadata": {},
   "outputs": [
    {
     "ename": "SyntaxError",
     "evalue": "positional argument follows keyword argument (1910264749.py, line 1)",
     "output_type": "error",
     "traceback": [
      "\u001b[1;36m  Cell \u001b[1;32mIn[28], line 1\u001b[1;36m\u001b[0m\n\u001b[1;33m    std = Student(lname=\"Strange\",\"Steven\")\u001b[0m\n\u001b[1;37m                                          ^\u001b[0m\n\u001b[1;31mSyntaxError\u001b[0m\u001b[1;31m:\u001b[0m positional argument follows keyword argument\n"
     ]
    }
   ],
   "source": [
    "std = Student(lname=\"Strange\",\"Steven\")\n",
    "std.greeting()"
   ]
  },
  {
   "cell_type": "code",
   "execution_count": 29,
   "id": "fdf7d203",
   "metadata": {},
   "outputs": [
    {
     "name": "stdout",
     "output_type": "stream",
     "text": [
      "Hello my name is: Steven Strange\n"
     ]
    }
   ],
   "source": [
    "std = Student(lname=\"Strange\",fname=\"Steven\")\n",
    "std.greeting()"
   ]
  },
  {
   "cell_type": "code",
   "execution_count": 30,
   "id": "515ea3ff",
   "metadata": {},
   "outputs": [],
   "source": [
    "std1 = Student(\"Tony\",\"Stark\")\n",
    "std2 = Student(\"Tony\", \"Stark\")"
   ]
  },
  {
   "cell_type": "code",
   "execution_count": 31,
   "id": "7d7df3b0",
   "metadata": {},
   "outputs": [
    {
     "data": {
      "text/plain": [
       "False"
      ]
     },
     "execution_count": 31,
     "metadata": {},
     "output_type": "execute_result"
    }
   ],
   "source": [
    "std1 == std2"
   ]
  },
  {
   "cell_type": "code",
   "execution_count": 32,
   "id": "5738e7cd",
   "metadata": {},
   "outputs": [
    {
     "data": {
      "text/plain": [
       "False"
      ]
     },
     "execution_count": 32,
     "metadata": {},
     "output_type": "execute_result"
    }
   ],
   "source": [
    "std1 is std2"
   ]
  },
  {
   "cell_type": "code",
   "execution_count": 33,
   "id": "51036c8a",
   "metadata": {},
   "outputs": [],
   "source": [
    "std2 = std1"
   ]
  },
  {
   "cell_type": "code",
   "execution_count": 34,
   "id": "60ea1076",
   "metadata": {},
   "outputs": [
    {
     "data": {
      "text/plain": [
       "True"
      ]
     },
     "execution_count": 34,
     "metadata": {},
     "output_type": "execute_result"
    }
   ],
   "source": [
    "std1 == std2"
   ]
  },
  {
   "cell_type": "code",
   "execution_count": 35,
   "id": "30b2d3b7",
   "metadata": {},
   "outputs": [],
   "source": [
    "class Student():\n",
    "    def __init__(self, fname=\"John\", lname=\"Smith\"):\n",
    "        self._fname = fname\n",
    "        self._lname = lname\n",
    "    def greeting(self):\n",
    "        print(\"Hello my name is:\",self._fname,self._lname)\n",
    "    def get_fname(self):\n",
    "        return self._fname\n",
    "    def get_lname(self):\n",
    "        return self._lname\n",
    "    def __eq__(self, another_student):\n",
    "        return self._fname == another_student.get_fname() and self._lname == another_student.get_lname()"
   ]
  },
  {
   "cell_type": "code",
   "execution_count": 36,
   "id": "1e841f7f",
   "metadata": {},
   "outputs": [],
   "source": [
    "std1 = Student(\"Tony\",\"Stark\")\n",
    "std2 = Student(\"Tony\", \"Stark\")"
   ]
  },
  {
   "cell_type": "code",
   "execution_count": 37,
   "id": "c3f9c82f",
   "metadata": {},
   "outputs": [
    {
     "data": {
      "text/plain": [
       "True"
      ]
     },
     "execution_count": 37,
     "metadata": {},
     "output_type": "execute_result"
    }
   ],
   "source": [
    "std1 == std2"
   ]
  },
  {
   "cell_type": "code",
   "execution_count": 38,
   "id": "d709838d",
   "metadata": {},
   "outputs": [
    {
     "data": {
      "text/plain": [
       "False"
      ]
     },
     "execution_count": 38,
     "metadata": {},
     "output_type": "execute_result"
    }
   ],
   "source": [
    "std1 is std2"
   ]
  },
  {
   "cell_type": "code",
   "execution_count": 39,
   "id": "91c73e57",
   "metadata": {},
   "outputs": [
    {
     "data": {
      "text/plain": [
       "['__add__',\n",
       " '__class__',\n",
       " '__class_getitem__',\n",
       " '__contains__',\n",
       " '__delattr__',\n",
       " '__delitem__',\n",
       " '__dir__',\n",
       " '__doc__',\n",
       " '__eq__',\n",
       " '__format__',\n",
       " '__ge__',\n",
       " '__getattribute__',\n",
       " '__getitem__',\n",
       " '__gt__',\n",
       " '__hash__',\n",
       " '__iadd__',\n",
       " '__imul__',\n",
       " '__init__',\n",
       " '__init_subclass__',\n",
       " '__iter__',\n",
       " '__le__',\n",
       " '__len__',\n",
       " '__lt__',\n",
       " '__mul__',\n",
       " '__ne__',\n",
       " '__new__',\n",
       " '__reduce__',\n",
       " '__reduce_ex__',\n",
       " '__repr__',\n",
       " '__reversed__',\n",
       " '__rmul__',\n",
       " '__setattr__',\n",
       " '__setitem__',\n",
       " '__sizeof__',\n",
       " '__str__',\n",
       " '__subclasshook__',\n",
       " 'append',\n",
       " 'clear',\n",
       " 'copy',\n",
       " 'count',\n",
       " 'extend',\n",
       " 'index',\n",
       " 'insert',\n",
       " 'pop',\n",
       " 'remove',\n",
       " 'reverse',\n",
       " 'sort']"
      ]
     },
     "execution_count": 39,
     "metadata": {},
     "output_type": "execute_result"
    }
   ],
   "source": [
    "dir(list)"
   ]
  },
  {
   "cell_type": "code",
   "execution_count": 40,
   "id": "c540b61a",
   "metadata": {},
   "outputs": [
    {
     "data": {
      "text/plain": [
       "['append',\n",
       " 'clear',\n",
       " 'copy',\n",
       " 'count',\n",
       " 'extend',\n",
       " 'index',\n",
       " 'insert',\n",
       " 'pop',\n",
       " 'remove',\n",
       " 'reverse',\n",
       " 'sort']"
      ]
     },
     "execution_count": 40,
     "metadata": {},
     "output_type": "execute_result"
    }
   ],
   "source": [
    "[i for i in dir(list) if i[0] != \"_\"]"
   ]
  },
  {
   "cell_type": "code",
   "execution_count": 41,
   "id": "e7fedd9a",
   "metadata": {},
   "outputs": [
    {
     "data": {
      "text/plain": [
       "['clear',\n",
       " 'copy',\n",
       " 'fromkeys',\n",
       " 'get',\n",
       " 'items',\n",
       " 'keys',\n",
       " 'pop',\n",
       " 'popitem',\n",
       " 'setdefault',\n",
       " 'update',\n",
       " 'values']"
      ]
     },
     "execution_count": 41,
     "metadata": {},
     "output_type": "execute_result"
    }
   ],
   "source": [
    "[i for i in dir(dict) if i[0] != \"_\"]"
   ]
  },
  {
   "cell_type": "code",
   "execution_count": 42,
   "id": "e906abdb",
   "metadata": {},
   "outputs": [
    {
     "data": {
      "text/plain": [
       "['get_fname', 'get_lname', 'greeting']"
      ]
     },
     "execution_count": 42,
     "metadata": {},
     "output_type": "execute_result"
    }
   ],
   "source": [
    "[i for i in dir(Student) if i[0] != \"_\"]"
   ]
  },
  {
   "cell_type": "code",
   "execution_count": 43,
   "id": "60e8962d",
   "metadata": {},
   "outputs": [
    {
     "data": {
      "text/plain": [
       "['get_count', 'increment', 'reset']"
      ]
     },
     "execution_count": 43,
     "metadata": {},
     "output_type": "execute_result"
    }
   ],
   "source": [
    "[i for i in dir(SimpleCounter) if i[0] != \"_\"]"
   ]
  },
  {
   "cell_type": "code",
   "execution_count": 44,
   "id": "047c9689",
   "metadata": {},
   "outputs": [
    {
     "data": {
      "text/plain": [
       "['get_count', 'increment', 'is_too_many_people', 'reset']"
      ]
     },
     "execution_count": 44,
     "metadata": {},
     "output_type": "execute_result"
    }
   ],
   "source": [
    "[i for i in dir(DecrementingCounter) if i[0] != \"_\"]"
   ]
  },
  {
   "cell_type": "code",
   "execution_count": 45,
   "id": "60896955",
   "metadata": {},
   "outputs": [],
   "source": [
    "# counter lowercase characters in a string but recursively!\n",
    "\n",
    "def llcount(string):\n",
    "    if len(string) == 0:\n",
    "        return 0\n",
    "    elif string[0] == string[0].lower():\n",
    "        return 1 + llcount(string[1::])\n",
    "    else:\n",
    "        return llcount(string[1::])\n",
    "        "
   ]
  },
  {
   "cell_type": "code",
   "execution_count": 46,
   "id": "06c0c2b0",
   "metadata": {},
   "outputs": [
    {
     "data": {
      "text/plain": [
       "9"
      ]
     },
     "execution_count": 46,
     "metadata": {},
     "output_type": "execute_result"
    }
   ],
   "source": [
    "llcount(\"hEllo wOrld\")"
   ]
  },
  {
   "cell_type": "code",
   "execution_count": 47,
   "id": "5268e931",
   "metadata": {},
   "outputs": [
    {
     "data": {
      "text/plain": [
       "9"
      ]
     },
     "execution_count": 47,
     "metadata": {},
     "output_type": "execute_result"
    }
   ],
   "source": [
    "llcount(\"Hello World\")"
   ]
  },
  {
   "cell_type": "code",
   "execution_count": 48,
   "id": "b259eeef",
   "metadata": {},
   "outputs": [],
   "source": [
    "#In Python we do have global variables so Dont Do this!\n",
    "my_list = []\n",
    "\n",
    "def f(number):\n",
    "    global my_list\n",
    "    if number%2 == 0:\n",
    "        my_list.append(number)\n",
    "    print(\"I am inside function\", my_list)"
   ]
  },
  {
   "cell_type": "code",
   "execution_count": 49,
   "id": "85b6d44f",
   "metadata": {},
   "outputs": [
    {
     "name": "stdout",
     "output_type": "stream",
     "text": [
      "I am inside function []\n",
      "I am inside function [4]\n",
      "I am inside function [4, 6]\n",
      "I am outside function and my list looks like:  [4, 6]\n"
     ]
    }
   ],
   "source": [
    "f(3)\n",
    "f(4)\n",
    "f(6)\n",
    "print(\"I am outside function and my list looks like: \", my_list)"
   ]
  },
  {
   "cell_type": "code",
   "execution_count": 50,
   "id": "b9ef97b7",
   "metadata": {},
   "outputs": [],
   "source": [
    "# if you dont want the above behavior, use a mutable data structure\n",
    "my_list = []\n",
    "\n",
    "def g(number,lst):\n",
    "    if number%2 == 0:\n",
    "        lst.append(number)\n",
    "    print(\"I am inside function\", my_list)"
   ]
  },
  {
   "cell_type": "code",
   "execution_count": 52,
   "id": "20fbc380",
   "metadata": {},
   "outputs": [
    {
     "name": "stdout",
     "output_type": "stream",
     "text": [
      "I am inside function []\n",
      "I am inside function [4]\n",
      "I am inside function [4, 6]\n",
      "I am outside function and my list looks like:  [4, 6]\n"
     ]
    }
   ],
   "source": [
    "g(3,my_list)\n",
    "g(4,my_list)\n",
    "g(6,my_list)\n",
    "print(\"I am outside function and my list looks like: \", my_list)"
   ]
  },
  {
   "cell_type": "code",
   "execution_count": 53,
   "id": "dfba6b3b",
   "metadata": {},
   "outputs": [],
   "source": [
    "def fancy_return():\n",
    "    return 1,1.0,\"1\""
   ]
  },
  {
   "cell_type": "code",
   "execution_count": 54,
   "id": "b414c575",
   "metadata": {},
   "outputs": [],
   "source": [
    "result = fancy_return()"
   ]
  },
  {
   "cell_type": "code",
   "execution_count": 55,
   "id": "c8db8b1c",
   "metadata": {},
   "outputs": [
    {
     "data": {
      "text/plain": [
       "tuple"
      ]
     },
     "execution_count": 55,
     "metadata": {},
     "output_type": "execute_result"
    }
   ],
   "source": [
    "type(result)"
   ]
  },
  {
   "cell_type": "code",
   "execution_count": 56,
   "id": "5acc4788",
   "metadata": {},
   "outputs": [],
   "source": [
    "# tuple unpacking\n",
    "var1, var2, var3 = fancy_return()"
   ]
  },
  {
   "cell_type": "code",
   "execution_count": 57,
   "id": "1f272678",
   "metadata": {},
   "outputs": [
    {
     "ename": "ValueError",
     "evalue": "too many values to unpack (expected 2)",
     "output_type": "error",
     "traceback": [
      "\u001b[1;31m---------------------------------------------------------------------------\u001b[0m",
      "\u001b[1;31mValueError\u001b[0m                                Traceback (most recent call last)",
      "Cell \u001b[1;32mIn[57], line 1\u001b[0m\n\u001b[1;32m----> 1\u001b[0m var1, var3 \u001b[38;5;241m=\u001b[39m fancy_return()\n",
      "\u001b[1;31mValueError\u001b[0m: too many values to unpack (expected 2)"
     ]
    }
   ],
   "source": [
    "var1, var3 = fancy_return()"
   ]
  },
  {
   "cell_type": "code",
   "execution_count": 58,
   "id": "8340015a",
   "metadata": {},
   "outputs": [
    {
     "ename": "ValueError",
     "evalue": "not enough values to unpack (expected 4, got 3)",
     "output_type": "error",
     "traceback": [
      "\u001b[1;31m---------------------------------------------------------------------------\u001b[0m",
      "\u001b[1;31mValueError\u001b[0m                                Traceback (most recent call last)",
      "Cell \u001b[1;32mIn[58], line 1\u001b[0m\n\u001b[1;32m----> 1\u001b[0m var1, var2, var3, var4 \u001b[38;5;241m=\u001b[39m fancy_return()\n",
      "\u001b[1;31mValueError\u001b[0m: not enough values to unpack (expected 4, got 3)"
     ]
    }
   ],
   "source": [
    "var1, var2, var3, var4 = fancy_return()"
   ]
  },
  {
   "cell_type": "code",
   "execution_count": 59,
   "id": "d1dbf418",
   "metadata": {},
   "outputs": [],
   "source": [
    "var1,_, var3 = fancy_return()"
   ]
  },
  {
   "cell_type": "code",
   "execution_count": 1,
   "id": "f9d38060",
   "metadata": {},
   "outputs": [
    {
     "name": "stdout",
     "output_type": "stream",
     "text": [
      "7 5\n"
     ]
    }
   ],
   "source": [
    "#swapping variables\n",
    "x = 5\n",
    "y = 7\n",
    "y,x = x,y\n",
    "print(x,y)"
   ]
  },
  {
   "cell_type": "code",
   "execution_count": null,
   "id": "82e39915",
   "metadata": {},
   "outputs": [],
   "source": []
  }
 ],
 "metadata": {
  "kernelspec": {
   "display_name": "Python 3 (ipykernel)",
   "language": "python",
   "name": "python3"
  },
  "language_info": {
   "codemirror_mode": {
    "name": "ipython",
    "version": 3
   },
   "file_extension": ".py",
   "mimetype": "text/x-python",
   "name": "python",
   "nbconvert_exporter": "python",
   "pygments_lexer": "ipython3",
   "version": "3.9.0"
  }
 },
 "nbformat": 4,
 "nbformat_minor": 5
}
