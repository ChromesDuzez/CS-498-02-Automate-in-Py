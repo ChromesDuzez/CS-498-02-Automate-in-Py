{
 "cells": [
  {
   "cell_type": "markdown",
   "metadata": {},
   "source": [
    "\n",
    "### Instructions\n",
    "\n",
    "0. Rename this file yourName_CS360Lab1FA23.  **Not literally, yourName_lab1 (technically correct, the best kind of correct!).  If I were submitting this assignment it would be titled dbrennan_CS360Lab1FA23**\n",
    "1. Read all instructions carefully, ask questions if anything is confusing.  \n",
    "2. Fill in the code/text blocks to answer each question.\n",
    "3. Do *not* change any of the existing code provided.  The code is specifically there to help you!\n",
    "4. Run the entire notebook (restart and run all) *before* submitting it on Canvas to make sure that the code actually runs without errors.\n",
    "5. **Important**: Any question for which your code fails to run will receive 0 points.\n",
    "6. Have fun!\n",
    "7. Extra credit (if applicable) will only be granted if this lab is turned in before the end of class!!!\n",
    "8. **Do not import any packages!**  Any packages available to you are designed to be used from their import statement down.  \n",
    "9. Pass is merely used as a placeholder, delete it whenever you wish!\n",
    "\n",
    "Example:  Problem 1 doesn't have any import statements.  Problem 2 imports one package called \"A\".  Problem 3 imports one package called \"B\".  You may not use \"A\" or \"B\" for problem 1, you may not use \"B\" for problem 2 and you may use both for problem 3.  If you were to restart and rerun all cells in your notebook you would not be able to use a package prior to importing it so it logically makes sense as well!"
   ]
  },
  {
   "cell_type": "markdown",
   "metadata": {},
   "source": [
    "## Problem 1 (35 points) Recursion\n",
    "\n",
    "You have seen it before, and it operates exactly the same way in Python!  Write a recursive function that counts the vowels in a string.  Vowels are \"aeiouAEIOU\" in this class unless otherwise noted.  I would recommend using string slicing with recursion, that way you are slicing a string down one character at a time until you are finished.\n",
    "\n",
    "vowel_count(\"vowel\") is 2\n",
    "\n",
    "vowel_count(\"bbb\") is 0\n",
    "\n",
    "vowel_count(\"\") is 0"
   ]
  },
  {
   "cell_type": "code",
   "execution_count": 1,
   "metadata": {},
   "outputs": [
    {
     "data": {
      "text/plain": [
       "True"
      ]
     },
     "execution_count": 1,
     "metadata": {},
     "output_type": "execute_result"
    }
   ],
   "source": [
    "# Helpful hint for this problem\n",
    "# You can check if a character is in a string using the in keyword\n",
    "# Can you utilize this to help account for vowels?\n",
    "\"e\" in \"hello\""
   ]
  },
  {
   "cell_type": "code",
   "execution_count": 2,
   "metadata": {},
   "outputs": [],
   "source": [
    "## Short recursive example in Python\n",
    "def factorial(number):\n",
    "    if number <= 1:\n",
    "        return 1\n",
    "    else:\n",
    "        return number*factorial(number-1)"
   ]
  },
  {
   "cell_type": "code",
   "execution_count": 3,
   "metadata": {},
   "outputs": [
    {
     "name": "stdout",
     "output_type": "stream",
     "text": [
      "4\n"
     ]
    }
   ],
   "source": [
    "##Replace the pass keyword with your code\n",
    "VOWELS = \"aeiouAEIOU\"\n",
    "def vowel_count(n):\n",
    "    if len(n) == 1:\n",
    "        if n in VOWELS:\n",
    "            return 1\n",
    "        else:\n",
    "            return 0\n",
    "    elif len(n) == 0:\n",
    "        return 0\n",
    "    else:\n",
    "        return vowel_count(n[0::2]) + vowel_count(n[1::2])\n",
    "\n",
    "print(vowel_count(\"Extra Credit\"))"
   ]
  },
  {
   "cell_type": "markdown",
   "metadata": {},
   "source": [
    "## Problem 2 (30 points) Sastry Numbers + 2 point Extra Credit \n",
    "\n",
    "We are going to determine if a positive integer n is considered a Sastry number.  Suprisingly, no wikipedia article to link you too but this should be sufficient for your knowledge: \n",
    "\n",
    "http://www.numbersaplenty.com/set/Sastry_number/\n",
    "\n",
    "TLDR: An integer **n and the next integer n+1** concatenated is some number $\\phi$.  \n",
    "\n",
    "If $\\phi$ is a perfect square, then n is a Sastry number.\n",
    "\n",
    "Example:\n",
    "\n",
    "183 is a Sastry number.  183 **concatenated** with 184 (notice I stress the word concatenated because they are not simply added!!!) yields 183184.  $\\sqrt(183184)=428$ which is a perfect square.  Therefore by definition n=183 is indeed a Sastry number.  \n",
    "\n",
    "The floor function from the math library might come in handy for this problem, but it can be solved without it!  \n",
    "\n",
    "**Solve the problem without using strings to unlock two points of extra credit if turned in before the end of class!!!**"
   ]
  },
  {
   "cell_type": "code",
   "execution_count": 4,
   "metadata": {},
   "outputs": [
    {
     "name": "stdout",
     "output_type": "stream",
     "text": [
      "<class 'str'> 123 <class 'int'> 123\n"
     ]
    }
   ],
   "source": [
    "# You can cast in Python quite easily!\n",
    "x = \"123\"\n",
    "int_x = int(x)\n",
    "print(type(x),x,type(int_x),int_x)"
   ]
  },
  {
   "cell_type": "code",
   "execution_count": 5,
   "metadata": {},
   "outputs": [
    {
     "name": "stdout",
     "output_type": "stream",
     "text": [
      "643.34234\n",
      "643\n"
     ]
    }
   ],
   "source": [
    "## In order to round down, simply cast a float to an int\n",
    "## example:\n",
    "my_num = 643.34234\n",
    "print(my_num)\n",
    "my_int = int(my_num)\n",
    "print(my_int)"
   ]
  },
  {
   "cell_type": "code",
   "execution_count": 6,
   "metadata": {
    "scrolled": false
   },
   "outputs": [
    {
     "name": "stdout",
     "output_type": "stream",
     "text": [
      "False\n"
     ]
    }
   ],
   "source": [
    "num = 123\n",
    "\n",
    "def concatInts(a,b):\n",
    "    mult = 1\n",
    "    while mult <= b:\n",
    "        mult *= 10\n",
    "    return a * mult + b\n",
    "\n",
    "##Replace the pass keyword with your code\n",
    "def is_sastry(n):\n",
    "    phi = concatInts(n, n + 1)\n",
    "    return (phi**(1/2)) % 1 == 0\n",
    "\n",
    "print(is_sastry(num))"
   ]
  },
  {
   "cell_type": "markdown",
   "metadata": {},
   "source": [
    "## Problem 2 continued (5 points)\n",
    "\n",
    "**Using only a singular line of code, find all Sastry numbers from 1 to 10000000 inclusive on both bounds**\n",
    "\n",
    "**You may merely print out all Sastry numbers in the above range, not many exist!**\n",
    "\n",
    "**WARNING: writing more than one line of code will not yield any credit**\n",
    "\n",
    "**HINT you want a list comprehension!**"
   ]
  },
  {
   "cell_type": "code",
   "execution_count": 7,
   "metadata": {},
   "outputs": [
    {
     "data": {
      "text/plain": [
       "[183, 328, 528, 715, 6099, 13224, 40495, 106755, 453288, 2066115, 2975208]"
      ]
     },
     "execution_count": 7,
     "metadata": {},
     "output_type": "execute_result"
    }
   ],
   "source": [
    "##You only get one line!\n",
    "[i for i in range(1,10000001) if is_sastry(i)]\n",
    "##No you can't code below here that would be two lines"
   ]
  },
  {
   "cell_type": "markdown",
   "metadata": {},
   "source": [
    "## Problem 3 (30 points) \n",
    "\n",
    "A pandigital number contains **all digits (0-9) at least once**. is_pandigital(n) returns True if n is a pandigital number and false otherwise\n",
    "\n",
    "Examples:\n",
    "\n",
    "is_pandigital(98140723568910) should return True\n",
    "\n",
    "is_pandigital(90864523148909) should return False, we have are missing the digit 7\n",
    "\n",
    "**If you have expierience using sets in Python that is wonderful, but you may not use sets to solve this problem**"
   ]
  },
  {
   "cell_type": "code",
   "execution_count": 8,
   "metadata": {},
   "outputs": [
    {
     "name": "stdout",
     "output_type": "stream",
     "text": [
      "False\n"
     ]
    }
   ],
   "source": [
    "##Replace the pass keyword with your code\n",
    "def is_pandigital(n):\n",
    "    unusedDigits = [i for i in range(10)]\n",
    "    for i in str(n):\n",
    "        if int(i) in unusedDigits:\n",
    "            unusedDigits.remove(int(i))\n",
    "    if len(unusedDigits) == 0:\n",
    "        return True\n",
    "    return False\n",
    "\n",
    "print(is_pandigital(90864523148909))"
   ]
  },
  {
   "cell_type": "code",
   "execution_count": null,
   "metadata": {},
   "outputs": [],
   "source": []
  }
 ],
 "metadata": {
  "kernelspec": {
   "display_name": "Python 3 (ipykernel)",
   "language": "python",
   "name": "python3"
  },
  "language_info": {
   "codemirror_mode": {
    "name": "ipython",
    "version": 3
   },
   "file_extension": ".py",
   "mimetype": "text/x-python",
   "name": "python",
   "nbconvert_exporter": "python",
   "pygments_lexer": "ipython3",
   "version": "3.9.0"
  }
 },
 "nbformat": 4,
 "nbformat_minor": 2
}
