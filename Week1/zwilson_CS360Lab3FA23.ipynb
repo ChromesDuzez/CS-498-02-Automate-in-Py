{
 "cells": [
  {
   "cell_type": "markdown",
   "metadata": {},
   "source": [
    "\n",
    "### Instructions\n",
    "\n",
    "0. Rename this file yourName_CS360Lab3FA23.  **Not literally, yourName_CS360Lab3FA23 (technically correct, the best kind of correct!).**\n",
    "1. Read all instructions carefully, ask questions if anything is confusing.  \n",
    "2. Fill in the code/text blocks to answer each question.\n",
    "3. Do *not* change any of the existing code provided.  The code is specifically there to help you!\n",
    "4. Run the entire notebook *before* submitting it on Sakai to make sure that the code actually runs without errors.\n",
    "5. **Important**: Any question for which your code fails to run will receive 0 points.\n",
    "6. Have fun!\n",
    "7. Extra credit (if applicable) will only be granted if this lab is turned in before the end of class\n",
    "8. **Do not import any packages!**  Any packages available to you are designed to be used from their import statement down.  \n",
    "\n",
    "Example:  Problem 1 doesn't have any import statements.  Problem 2 imports one package called \"A\".  Problem 3 imports one package called \"B\".  You may not use \"A\" or \"B\" for problem 1, you may not use \"B\" for problem 2 and you may use both for problem 3.  If you were to restart and rerun all cells in your notebook you would not be able to use a package prior to importing it so it logically makes sense as well!"
   ]
  },
  {
   "cell_type": "markdown",
   "metadata": {},
   "source": [
    "# Inheritance in Python\n",
    "\n",
    "Most find inheritance in Python much more manageable than other langauges!  \n",
    "\n",
    "If you see Python code where there is a keyword \"object\" passed into your class, that would be pre-Python 3 code as we used to need to inherit from the keyword object.  That is to say:"
   ]
  },
  {
   "cell_type": "code",
   "execution_count": null,
   "metadata": {},
   "outputs": [],
   "source": [
    "# Prior to Python 3\n",
    "class Example(object):\n",
    "    pass"
   ]
  },
  {
   "cell_type": "code",
   "execution_count": null,
   "metadata": {},
   "outputs": [],
   "source": [
    "# Python 3 and later\n",
    "class Example:\n",
    "    pass"
   ]
  },
  {
   "cell_type": "markdown",
   "metadata": {},
   "source": [
    "These two above classes are identical!  An example of a non-trivial inheritance is shown below.  There is a module you can download in Python to add abstract class functionality if so desired, but I have achieved the same result by raising an error in the Animal class. "
   ]
  },
  {
   "cell_type": "code",
   "execution_count": null,
   "metadata": {},
   "outputs": [],
   "source": [
    "class Animal:\n",
    "    def __init__(self, name):\n",
    "        self.name = name\n",
    "\n",
    "    def speak(self):\n",
    "        raise NotImplementedError(\"Subclasses should implement this method rather than this class\")\n",
    "\n",
    "class Dog(Animal):\n",
    "    def speak(self):\n",
    "        return f\"{self.name} says Woof!\"\n",
    "\n",
    "class Cat(Animal):\n",
    "    def speak(self):\n",
    "        return f\"{self.name} says Meow!\"\n",
    "\n",
    "# Testing the classes\n",
    "dog = Dog(\"Clifford\")\n",
    "print(dog.speak()) \n",
    "\n",
    "cat = Cat(\"Garfield\")\n",
    "print(cat.speak())\n",
    "\n",
    "# Notice the error\n",
    "animal = Animal(\"Tigger\")\n",
    "print(animal.speak())"
   ]
  },
  {
   "cell_type": "markdown",
   "metadata": {},
   "source": [
    "## Problem 1 (40 points) \n",
    "\n",
    "## Extra Credit Bounty: Turn in this lab before the end of class to increase your late day balance by 1!\n",
    "\n",
    "Today you will be building a Fraction class from scratch.  It will have have the ability to add, subtract, multiply and divide by passing another Fraction into that method.  For example if we have a fraction A and a fraction B, A.add(B) will add B to fraction A, modifying A.  At the end of each mathematical operation (add/subtact/multiply/divide) you will simplify the resulting fraction.  The method is _simplify, a \"private\" method that you should call at the end of each mathematical operation in addition to the class constructor.  \n",
    "\n",
    "In order to compare if two fractions are equivalent we will also need to override the equals class behavior If you aren't quite sure what to do, review the lecture notes from Tuesday or follow this link: \n",
    "\n",
    "https://www.pythontutorial.net/python-oop/python-__eq__/\n",
    "\n",
    "For example:\n",
    "\n",
    "a = Fraction(3,5)\n",
    "\n",
    "b = Fraction(6,10)\n",
    "\n",
    "print(a==b)\n",
    "\n",
    "This should be **True** since both fractions are equivalent (6/10 will reduce to 3/5, the simplify method should be run when the object is instantiated).  \n",
    "\n",
    "\n",
    "# Do not worry about 0/1 or any form of 0 in your calculations\n",
    "\n",
    "In order to simplify your fractions, you will need to find the greatest common divisor and divide both numerator and denominator by both.\n",
    "\n",
    "GCD: https://en.wikipedia.org/wiki/Greatest_common_divisor"
   ]
  },
  {
   "cell_type": "code",
   "execution_count": 19,
   "metadata": {},
   "outputs": [],
   "source": [
    "class Fraction:\n",
    "\n",
    "    def __init__(self, num, den):\n",
    "        self._num = num\n",
    "        self._den = den\n",
    "        self._simplify()\n",
    "\n",
    "    def num(self):\n",
    "        return self._num\n",
    "\n",
    "    def den(self):\n",
    "        return self._den\n",
    "\n",
    "    def _simplify(self):\n",
    "        d = self._gcd(self._num, self._den)\n",
    "        self._num = self._num // d\n",
    "        self._den = self._den // d\n",
    "\n",
    "    def _lcd(self, y):\n",
    "        if self._den > y:\n",
    "            greater = self._den\n",
    "        else:\n",
    "            greater = y\n",
    "        while(True):\n",
    "            if((greater % self._den == 0) and (greater % y == 0)):\n",
    "                return greater\n",
    "            greater += 1\n",
    "    \n",
    "    def _gcd(self, a, b):\n",
    "        if(b == 0):\n",
    "            return abs(a)\n",
    "        else:\n",
    "            return self._gcd(b, a % b)\n",
    "\n",
    "    def __str__(self):\n",
    "        return f\"{self._num}/{self._den}\"\n",
    "\n",
    "    def __add__(self, other_fraction):\n",
    "        newDen = self._lcd(other_fraction.den())\n",
    "        return Fraction((self._num * (newDen // self._den)) + (other_fraction.num() * (newDen // other_fraction.den())), newDen)\n",
    "\n",
    "    def __sub__(self, other_fraction):\n",
    "        newDen = self._lcd(other_fraction.den())\n",
    "        return Fraction((self._num * (newDen // self._den)) - (other_fraction.num() * (newDen // other_fraction.den())), newDen)\n",
    "\n",
    "    def __mul__(self, other_fraction):\n",
    "        return Fraction(self._num * other_fraction.num(), self._den * other_fraction.den())\n",
    "\n",
    "    # This corresponds to single division in Python ex: 3/2 = 1.5\n",
    "    # Another method represents division -> cast to int\n",
    "    def __truediv__(self, other_fraction):\n",
    "        return self * Fraction(other_fraction.den(), other_fraction.num())\n",
    "\n",
    "    def __eq__(self, other: 'Fraction'):\n",
    "        return ((self._num == other.num()) and (self._den == other.den()))\n",
    "        "
   ]
  },
  {
   "cell_type": "code",
   "execution_count": 20,
   "metadata": {},
   "outputs": [
    {
     "name": "stdout",
     "output_type": "stream",
     "text": [
      "4/5\n",
      "14/15\n",
      "26/15\n",
      "2/15\n",
      "2/5\n",
      "8/5\n"
     ]
    }
   ],
   "source": [
    "# Test your fraction class here!\n",
    "testFract = Fraction(48, 60)\n",
    "print(testFract)\n",
    "secondFract = Fraction(112, 120)\n",
    "print(secondFract)\n",
    "print(testFract + secondFract)\n",
    "print(secondFract - testFract)\n",
    "thirdFract = Fraction(1,2)\n",
    "print(testFract * thirdFract)\n",
    "print(testFract / thirdFract)"
   ]
  },
  {
   "cell_type": "markdown",
   "metadata": {},
   "source": [
    "## Problem 2 (50 points) Egyptian Fractions\n",
    "\n",
    "Egyptian fractions can be thought of as a sum of unit fractions (where the numerator is always 1).  Any Fraction can be expressed as an egyptian fraction (although some may have many terms!!!).  In order to stay true to this definition, we cannot \"reuse\" any fractions otherwise upon simplification we wouldn't have unit fractions.\n",
    "\n",
    "$\\frac{2}{3} = \\frac{1}{3}+\\frac{1}{3}$ However, this is not allowed due to the repeated fraction\n",
    "\n",
    "Rather we express $\\frac{2}{3} = \\frac{1}{2}+\\frac{1}{6}$\n",
    "\n",
    "\n",
    "\n",
    "**For this lab only:**\n",
    "\n",
    "In order for this to work we cannot have a fraction equal to or exceeding one, that is to say a fraction expressable as an Egyptian Fraction will always be strictly less than 1.  This is not true, but this makes your workload a lot less!  You will not need to check if a fraction is less than one, you can safely just assume it.\n",
    "\n",
    "\n",
    "https://en.wikipedia.org/wiki/Egyptian_fraction\n",
    "\n",
    "## algorithm:\n",
    "\n",
    "https://en.wikipedia.org/wiki/Greedy_algorithm_for_Egyptian_fractions\n",
    "\n",
    "**Note: this is a greedy algorithm, quite often less fractions are needed to express a given fraction as an egyptian fraction but this will find a solution!!!**\n",
    "\n",
    "Inherit from the Fraction class above.\n",
    "\n",
    "You will then return a list of fractions, such that each fraction is a unit fraction that makes the starting fraction into an egyptian fraction.  Store your fractions that make up the egyptian fraction expansion of the original fraction in a list as strings.\n"
   ]
  },
  {
   "cell_type": "code",
   "execution_count": 23,
   "metadata": {},
   "outputs": [
    {
     "data": {
      "text/plain": [
       "8"
      ]
     },
     "execution_count": 23,
     "metadata": {},
     "output_type": "execute_result"
    }
   ],
   "source": [
    "## You might consider using the ceiling function\n",
    "# No other imports allowed!\n",
    "\n",
    "\n",
    "from math import ceil\n",
    "\n",
    "ceil(7.2)"
   ]
  },
  {
   "cell_type": "code",
   "execution_count": 29,
   "metadata": {},
   "outputs": [],
   "source": [
    "# You only need to implement this one method\n",
    "class EgyptianFraction(Fraction):\n",
    "    def egyptian(self):\n",
    "        lst = []\n",
    "        if self._num == 1:\n",
    "            lst.append(f\"{self._num}/{self._den}\")\n",
    "            return lst\n",
    "        else:\n",
    "            denon = ceil(self._den/self._num)\n",
    "            fractNum = (self._den * -1) % self._num\n",
    "            fractDen = self._den * denon\n",
    "            lst.append(f\"1/{denon}\")\n",
    "            return lst + EgyptianFraction(fractNum, fractDen).egyptian()"
   ]
  },
  {
   "cell_type": "code",
   "execution_count": 31,
   "metadata": {
    "scrolled": true
   },
   "outputs": [
    {
     "name": "stdout",
     "output_type": "stream",
     "text": [
      "True\n"
     ]
    }
   ],
   "source": [
    "##test 1\n",
    "a = EgyptianFraction(7,15)\n",
    "list_of_units = a.egyptian()\n",
    "#print(list_of_units)\n",
    "##Check the sets because order not important, we just want them all to be there!\n",
    "print(set(list_of_units) == set(['1/3','1/8','1/120']))"
   ]
  },
  {
   "cell_type": "code",
   "execution_count": null,
   "metadata": {},
   "outputs": [],
   "source": [
    "##test 2\n",
    "b = EgyptianFraction(2,3)\n",
    "list_of_units2 = b.egyptian()\n",
    "print(set(list_of_units2) == set(['1/2','1/6']))"
   ]
  }
 ],
 "metadata": {
  "kernelspec": {
   "display_name": "Python 3 (ipykernel)",
   "language": "python",
   "name": "python3"
  },
  "language_info": {
   "codemirror_mode": {
    "name": "ipython",
    "version": 3
   },
   "file_extension": ".py",
   "mimetype": "text/x-python",
   "name": "python",
   "nbconvert_exporter": "python",
   "pygments_lexer": "ipython3",
   "version": "3.9.0"
  }
 },
 "nbformat": 4,
 "nbformat_minor": 2
}
