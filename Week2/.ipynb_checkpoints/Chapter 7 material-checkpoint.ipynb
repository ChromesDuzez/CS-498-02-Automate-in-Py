{
 "cells": [
  {
   "cell_type": "code",
   "execution_count": 1,
   "id": "e7b50303-4f38-4950-b6f9-4a40b4ab1c56",
   "metadata": {},
   "outputs": [],
   "source": [
    "## Chapter 7 is all about regex in python\n",
    "\n",
    "#The example they use is recognizing whether or not a string is an american phone \n",
    "    #number and doing that without regex is kind of a pain and would look something like the following..."
   ]
  },
  {
   "cell_type": "code",
   "execution_count": 2,
   "id": "9695c03c-5e21-4287-bc78-de4ca09709fb",
   "metadata": {},
   "outputs": [],
   "source": [
    "# For this topic we are assuming the pattern for a phone number is XXX-XXX-XXXX [X's being any digit 0-9]\n",
    "def isPhoneNumber(text):\n",
    "    ##if the string is not 12 characters long its not going to match the pattern above\n",
    "    if len(text) != 12:\n",
    "        return False\n",
    "    ##check that the first three characters are numbers\n",
    "    for i in range(0,3):\n",
    "        if not text[i].isdecimal():\n",
    "            return False\n",
    "    ##check that the 4th character is the deliminating dash\n",
    "    if text[3] != '-':\n",
    "        return False\n",
    "    ##check the next three characters that they're numbers\n",
    "    for i in range(4,7):\n",
    "        if not text[i].isdecimal():\n",
    "            return False\n",
    "    ##check that the 8th character is the deliminating dash\n",
    "    if text[7] != '-':\n",
    "        return False\n",
    "    ##check the next four characters that they're numbers\n",
    "    for i in range(8,12):\n",
    "        if not text[i].isdecimal():\n",
    "            return False\n",
    "    #if none of the checks fail to meet the requirement than it must be a phone number so we return True\n",
    "    return True\n",
    "    "
   ]
  },
  {
   "cell_type": "code",
   "execution_count": 3,
   "id": "a37b73f7-dbf5-4c94-b61a-95ef1c8360bc",
   "metadata": {},
   "outputs": [
    {
     "name": "stdout",
     "output_type": "stream",
     "text": [
      "False\n",
      "True\n",
      "False\n"
     ]
    }
   ],
   "source": [
    "print(isPhoneNumber(\"XXX-XXX-XXXX\"))\n",
    "print(isPhoneNumber(\"666-420-6969\"))\n",
    "print(isPhoneNumber(\"666 420-6969\"))"
   ]
  },
  {
   "cell_type": "code",
   "execution_count": 4,
   "id": "83dc3805-266f-4f90-8c62-4211ba4a9060",
   "metadata": {},
   "outputs": [],
   "source": [
    "## So to use the isPhoneNumber on a string to search a string for a phone number the code would look something like the following...\n",
    "def searchNumber(message):\n",
    "    for i in range(len(message)):\n",
    "        chunk = message[i:i+12]\n",
    "        if isPhoneNumber(chunk):\n",
    "            print('Phone number found: ' + chunk)\n",
    "    print('Done')\n",
    "# This function breaks the string into 12 character long substrings along the string and tests each substring \n",
    "    #if it matches the pattern previously established in isPhoneNumber()"
   ]
  },
  {
   "cell_type": "code",
   "execution_count": 5,
   "id": "081cb1af-325d-436c-a0ff-50240a62c684",
   "metadata": {},
   "outputs": [
    {
     "name": "stdout",
     "output_type": "stream",
     "text": [
      "Phone number found: 415-555-1011\n",
      "Phone number found: 415-555-9999\n",
      "Done\n",
      "Done\n"
     ]
    }
   ],
   "source": [
    "searchNumber('Call me at 415-555-1011 tomorrow. 415-555-9999 is my office.')\n",
    "searchNumber('Call me at my office.')"
   ]
  },
  {
   "cell_type": "code",
   "execution_count": 6,
   "id": "90ef7537-4eca-4b25-9456-8bde820bfd39",
   "metadata": {},
   "outputs": [
    {
     "name": "stdout",
     "output_type": "stream",
     "text": [
      "Phone number found: 415-555-4242\n"
     ]
    }
   ],
   "source": [
    "## as you can see this method is bulky and complicated so instead we can use regex to simplify that code and make it readable\n",
    "import re\n",
    "phoneNumRegex = re.compile(r'\\d\\d\\d-\\d\\d\\d-\\d\\d\\d\\d')\n",
    "mo = phoneNumRegex.search('My number is 415-555-4242.')\n",
    "print('Phone number found: ' + mo.group())"
   ]
  },
  {
   "cell_type": "code",
   "execution_count": 7,
   "id": "9b899be5-13de-42e6-8ead-8e55711edea0",
   "metadata": {},
   "outputs": [
    {
     "name": "stdout",
     "output_type": "stream",
     "text": [
      "4: 415\n",
      "5: 555-4242\n",
      "6: 415-555-4242\n",
      "7: 415-555-4242\n",
      "8: ('415', '555-4242')\n",
      "10: 415\n",
      "11: 555-4242\n"
     ]
    }
   ],
   "source": [
    "##you can even do pattern groupings with parenthesis\n",
    "phoneNumRegex = re.compile(r'(\\d\\d\\d)-(\\d\\d\\d-\\d\\d\\d\\d)')\n",
    "mo = phoneNumRegex.search('My number is 415-555-4242.')\n",
    "print(\"4: \" + mo.group(1))\n",
    "print(\"5: \" + mo.group(2))\n",
    "print(\"6: \" + mo.group(0))\n",
    "print(\"7: \" + mo.group())\n",
    "print(\"8:\", mo.groups())\n",
    "areaCode, mainNumber = mo.groups()\n",
    "print(\"10: \" + areaCode)\n",
    "print(\"11: \" + mainNumber)"
   ]
  },
  {
   "cell_type": "code",
   "execution_count": 8,
   "id": "01fb6455-1d0c-41da-8a22-11949bafb547",
   "metadata": {},
   "outputs": [
    {
     "data": {
      "text/plain": [
       "'Batman'"
      ]
     },
     "execution_count": 8,
     "metadata": {},
     "output_type": "execute_result"
    }
   ],
   "source": [
    "## you can search for multiple groupings using the | notation\n",
    "heroRegex = re.compile(r'Batman|Tina Fey')\n",
    "mo1 = heroRegex.search('Batman and Tina Fey')\n",
    "mo1.group()"
   ]
  },
  {
   "cell_type": "code",
   "execution_count": 9,
   "id": "8d0085f4-0c39-49bb-aeb1-73d8797e18d2",
   "metadata": {},
   "outputs": [
    {
     "data": {
      "text/plain": [
       "'Tina Fey'"
      ]
     },
     "execution_count": 9,
     "metadata": {},
     "output_type": "execute_result"
    }
   ],
   "source": [
    "mo2 = heroRegex.search('Tina Fey and Batman') \n",
    "mo2.group()"
   ]
  },
  {
   "cell_type": "code",
   "execution_count": 10,
   "id": "86ac4b4c-2752-4519-b132-c444afa01628",
   "metadata": {},
   "outputs": [
    {
     "data": {
      "text/plain": [
       "'Batmobile'"
      ]
     },
     "execution_count": 10,
     "metadata": {},
     "output_type": "execute_result"
    }
   ],
   "source": [
    "batRegex = re.compile(r'Bat(man|mobile|copter|bat)')\n",
    "mo = batRegex.search('Batmobile lost a wheel')\n",
    "mo.group()"
   ]
  },
  {
   "cell_type": "code",
   "execution_count": 11,
   "id": "170e8859-c475-456d-9865-4c96a587fab1",
   "metadata": {},
   "outputs": [
    {
     "data": {
      "text/plain": [
       "'mobile'"
      ]
     },
     "execution_count": 11,
     "metadata": {},
     "output_type": "execute_result"
    }
   ],
   "source": [
    "mo.group(1)"
   ]
  },
  {
   "cell_type": "code",
   "execution_count": 12,
   "id": "1e78bc0e-8db4-4487-b866-677f4d01ee46",
   "metadata": {},
   "outputs": [
    {
     "data": {
      "text/plain": [
       "'Batman'"
      ]
     },
     "execution_count": 12,
     "metadata": {},
     "output_type": "execute_result"
    }
   ],
   "source": [
    "#There is also optional matching using ?\n",
    "batRegex = re.compile(r'Bat(wo)?man')\n",
    "mo1 = batRegex.search('The Adventures of Batman')\n",
    "mo1.group()"
   ]
  },
  {
   "cell_type": "code",
   "execution_count": 13,
   "id": "5acba444-a741-4a1b-a7e7-de8e7a6828dd",
   "metadata": {},
   "outputs": [
    {
     "data": {
      "text/plain": [
       "'Batwoman'"
      ]
     },
     "execution_count": 13,
     "metadata": {},
     "output_type": "execute_result"
    }
   ],
   "source": [
    "mo2 = batRegex.search('The Adventures of Batwoman')\n",
    "mo2.group()"
   ]
  },
  {
   "cell_type": "code",
   "execution_count": 14,
   "id": "a055f95f-b7e1-4280-b0a1-f8aa2eb1a233",
   "metadata": {},
   "outputs": [
    {
     "data": {
      "text/plain": [
       "'415-555-4242'"
      ]
     },
     "execution_count": 14,
     "metadata": {},
     "output_type": "execute_result"
    }
   ],
   "source": [
    "phoneRegex = re.compile(r'(\\d\\d\\d-)?\\d\\d\\d-\\d\\d\\d\\d')\n",
    "mo1 = phoneRegex.search('My number is 415-555-4242')\n",
    "mo1.group()"
   ]
  },
  {
   "cell_type": "code",
   "execution_count": 15,
   "id": "c9a2a6f6-b20d-4026-af7d-c7c5776bd79f",
   "metadata": {},
   "outputs": [
    {
     "data": {
      "text/plain": [
       "'555-4242'"
      ]
     },
     "execution_count": 15,
     "metadata": {},
     "output_type": "execute_result"
    }
   ],
   "source": [
    "mo2 = phoneRegex.search('My number is 555-4242')\n",
    "mo2.group()"
   ]
  },
  {
   "cell_type": "code",
   "execution_count": 16,
   "id": "cfdb5c5c-d495-40d1-a752-2073d74b9dd5",
   "metadata": {},
   "outputs": [
    {
     "data": {
      "text/plain": [
       "'Batman'"
      ]
     },
     "execution_count": 16,
     "metadata": {},
     "output_type": "execute_result"
    }
   ],
   "source": [
    "#There is also matching zero or more with * similar to ? just allows for multiples\n",
    "batRegex = re.compile(r'Bat(wo)*man')\n",
    "mo1 = batRegex.search('The Adventures of Batman')\n",
    "mo1.group()"
   ]
  },
  {
   "cell_type": "code",
   "execution_count": 17,
   "id": "e75d231c-030e-4d75-971a-6d2d08e718b9",
   "metadata": {},
   "outputs": [
    {
     "data": {
      "text/plain": [
       "'Batwoman'"
      ]
     },
     "execution_count": 17,
     "metadata": {},
     "output_type": "execute_result"
    }
   ],
   "source": [
    "mo2 = batRegex.search('The Adventures of Batwoman')\n",
    "mo2.group()"
   ]
  },
  {
   "cell_type": "code",
   "execution_count": 18,
   "id": "67cff519-1fcf-4ac6-a9a6-4eb636ca8950",
   "metadata": {},
   "outputs": [
    {
     "data": {
      "text/plain": [
       "'Batwowowowowoman'"
      ]
     },
     "execution_count": 18,
     "metadata": {},
     "output_type": "execute_result"
    }
   ],
   "source": [
    "mo3 = batRegex.search('The Adventures of Batwowowowowoman')\n",
    "mo3.group()"
   ]
  },
  {
   "cell_type": "code",
   "execution_count": 19,
   "id": "51731aec-f20c-484b-a8bd-9b7bed73b407",
   "metadata": {},
   "outputs": [
    {
     "data": {
      "text/plain": [
       "True"
      ]
     },
     "execution_count": 19,
     "metadata": {},
     "output_type": "execute_result"
    }
   ],
   "source": [
    "#match 1 or more with +\n",
    "batRegex = re.compile(r'Bat(wo)+man')\n",
    "mo1 = batRegex.search('The Adventures of Batman')\n",
    "mo1 == None"
   ]
  },
  {
   "cell_type": "code",
   "execution_count": 20,
   "id": "2fa65aba-6364-4702-b0b0-753af17d4374",
   "metadata": {},
   "outputs": [
    {
     "data": {
      "text/plain": [
       "'Batwoman'"
      ]
     },
     "execution_count": 20,
     "metadata": {},
     "output_type": "execute_result"
    }
   ],
   "source": [
    "mo2 = batRegex.search('The Adventures of Batwoman')\n",
    "mo2.group()"
   ]
  },
  {
   "cell_type": "code",
   "execution_count": 21,
   "id": "047117e2-d8d3-486b-ac21-e969f91e743d",
   "metadata": {},
   "outputs": [
    {
     "data": {
      "text/plain": [
       "'Batwowowowowoman'"
      ]
     },
     "execution_count": 21,
     "metadata": {},
     "output_type": "execute_result"
    }
   ],
   "source": [
    "mo3 = batRegex.search('The Adventures of Batwowowowowoman')\n",
    "mo3.group()"
   ]
  },
  {
   "cell_type": "code",
   "execution_count": 22,
   "id": "2247bec5-5c5a-482b-8397-a9846352110c",
   "metadata": {},
   "outputs": [
    {
     "data": {
      "text/plain": [
       "'HaHaHa'"
      ]
     },
     "execution_count": 22,
     "metadata": {},
     "output_type": "execute_result"
    }
   ],
   "source": [
    "## Match specific repetitions with {} can be used as either a single number {3} or a range {3,5}\n",
    "haRegex = re.compile(r'(Ha){3}')\n",
    "mo1 = haRegex.search('HaHaHa')\n",
    "mo1.group()"
   ]
  },
  {
   "cell_type": "code",
   "execution_count": 23,
   "id": "3565a526-0cf7-4835-89c2-f6aea4338280",
   "metadata": {},
   "outputs": [
    {
     "data": {
      "text/plain": [
       "True"
      ]
     },
     "execution_count": 23,
     "metadata": {},
     "output_type": "execute_result"
    }
   ],
   "source": [
    "mo2 = haRegex.search('Ha')\n",
    "mo2 == None"
   ]
  },
  {
   "cell_type": "code",
   "execution_count": 24,
   "id": "0f2aa94f-81da-48e8-aa95-01aeb436918f",
   "metadata": {},
   "outputs": [
    {
     "data": {
      "text/plain": [
       "'HaHaHaHa'"
      ]
     },
     "execution_count": 24,
     "metadata": {},
     "output_type": "execute_result"
    }
   ],
   "source": [
    "# can be done in a greedy or non greedy determined by adding a ? for nongreedy\n",
    "haRegex = re.compile(r'(Ha){3,5}')\n",
    "mo1 = haRegex.search('HaHaHaHa')\n",
    "mo1.group()"
   ]
  },
  {
   "cell_type": "code",
   "execution_count": 25,
   "id": "f5114c42-6571-4d05-93f0-e37c52bae834",
   "metadata": {},
   "outputs": [
    {
     "data": {
      "text/plain": [
       "'HaHaHa'"
      ]
     },
     "execution_count": 25,
     "metadata": {},
     "output_type": "execute_result"
    }
   ],
   "source": [
    "haRegex = re.compile(r'(Ha){3,5}?')\n",
    "mo2 = haRegex.search('HaHaHaHaHa')\n",
    "mo2.group()"
   ]
  },
  {
   "cell_type": "code",
   "execution_count": null,
   "id": "00da59c4-f0bf-4d6c-839a-050528b7c73d",
   "metadata": {},
   "outputs": [],
   "source": []
  }
 ],
 "metadata": {
  "kernelspec": {
   "display_name": "Python 3 (ipykernel)",
   "language": "python",
   "name": "python3"
  },
  "language_info": {
   "codemirror_mode": {
    "name": "ipython",
    "version": 3
   },
   "file_extension": ".py",
   "mimetype": "text/x-python",
   "name": "python",
   "nbconvert_exporter": "python",
   "pygments_lexer": "ipython3",
   "version": "3.11.5"
  }
 },
 "nbformat": 4,
 "nbformat_minor": 5
}
